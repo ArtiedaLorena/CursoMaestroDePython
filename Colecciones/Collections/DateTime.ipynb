{
 "cells": [
  {
   "cell_type": "code",
   "id": "initial_id",
   "metadata": {
    "collapsed": true,
    "ExecuteTime": {
     "end_time": "2024-05-23T13:53:26.703613Z",
     "start_time": "2024-05-23T13:53:26.687263Z"
    }
   },
   "source": "import datetime",
   "outputs": [],
   "execution_count": 3
  },
  {
   "metadata": {
    "ExecuteTime": {
     "end_time": "2024-05-21T18:21:38.199044Z",
     "start_time": "2024-05-21T18:21:38.152292Z"
    }
   },
   "cell_type": "code",
   "source": [
    "dt= datetime.datetime.now()\n",
    "datetime.datetime(2016,6,18,21,29,28,607208)"
   ],
   "id": "38a98a4ad7b18c01",
   "outputs": [
    {
     "data": {
      "text/plain": [
       "datetime.datetime(2016, 6, 18, 21, 29, 28, 607208)"
      ]
     },
     "execution_count": 3,
     "metadata": {},
     "output_type": "execute_result"
    }
   ],
   "execution_count": 3
  },
  {
   "metadata": {
    "ExecuteTime": {
     "end_time": "2024-05-21T18:21:42.869412Z",
     "start_time": "2024-05-21T18:21:42.858951Z"
    }
   },
   "cell_type": "code",
   "source": "dt.year",
   "id": "9728eff1cd56852e",
   "outputs": [
    {
     "data": {
      "text/plain": [
       "2024"
      ]
     },
     "execution_count": 4,
     "metadata": {},
     "output_type": "execute_result"
    }
   ],
   "execution_count": 4
  },
  {
   "metadata": {
    "ExecuteTime": {
     "end_time": "2024-05-21T18:22:04.159935Z",
     "start_time": "2024-05-21T18:22:04.132799Z"
    }
   },
   "cell_type": "code",
   "source": "dt.month",
   "id": "d384e72e3bd7defc",
   "outputs": [
    {
     "data": {
      "text/plain": [
       "5"
      ]
     },
     "execution_count": 5,
     "metadata": {},
     "output_type": "execute_result"
    }
   ],
   "execution_count": 5
  },
  {
   "metadata": {
    "ExecuteTime": {
     "end_time": "2024-05-21T18:22:12.880674Z",
     "start_time": "2024-05-21T18:22:12.867877Z"
    }
   },
   "cell_type": "code",
   "source": "dt.day",
   "id": "9c486c49a790dd8f",
   "outputs": [
    {
     "data": {
      "text/plain": [
       "21"
      ]
     },
     "execution_count": 6,
     "metadata": {},
     "output_type": "execute_result"
    }
   ],
   "execution_count": 6
  },
  {
   "metadata": {
    "ExecuteTime": {
     "end_time": "2024-05-21T18:24:41.871969Z",
     "start_time": "2024-05-21T18:24:41.848013Z"
    }
   },
   "cell_type": "code",
   "source": [
    "dt.hour\n",
    "\n"
   ],
   "id": "e94318d9116b9bfb",
   "outputs": [
    {
     "data": {
      "text/plain": [
       "15"
      ]
     },
     "execution_count": 11,
     "metadata": {},
     "output_type": "execute_result"
    }
   ],
   "execution_count": 11
  },
  {
   "metadata": {
    "ExecuteTime": {
     "end_time": "2024-05-21T18:24:54.909458Z",
     "start_time": "2024-05-21T18:24:54.893795Z"
    }
   },
   "cell_type": "code",
   "source": "dt.minute\n",
   "id": "ad67563a913ae10f",
   "outputs": [
    {
     "data": {
      "text/plain": [
       "21"
      ]
     },
     "execution_count": 12,
     "metadata": {},
     "output_type": "execute_result"
    }
   ],
   "execution_count": 12
  },
  {
   "metadata": {
    "ExecuteTime": {
     "end_time": "2024-05-21T18:25:01.720575Z",
     "start_time": "2024-05-21T18:25:01.697675Z"
    }
   },
   "cell_type": "code",
   "source": [
    "\n",
    "dt.second"
   ],
   "id": "97a299e15ed9625a",
   "outputs": [
    {
     "data": {
      "text/plain": [
       "38"
      ]
     },
     "execution_count": 13,
     "metadata": {},
     "output_type": "execute_result"
    }
   ],
   "execution_count": 13
  },
  {
   "metadata": {
    "ExecuteTime": {
     "end_time": "2024-05-21T18:25:33.660Z",
     "start_time": "2024-05-21T18:25:33.636098Z"
    }
   },
   "cell_type": "code",
   "source": "dt.microsecond",
   "id": "a89953e10dead873",
   "outputs": [
    {
     "data": {
      "text/plain": [
       "157259"
      ]
     },
     "execution_count": 14,
     "metadata": {},
     "output_type": "execute_result"
    }
   ],
   "execution_count": 14
  },
  {
   "metadata": {
    "ExecuteTime": {
     "end_time": "2024-05-21T18:25:59.220488Z",
     "start_time": "2024-05-21T18:25:59.193990Z"
    }
   },
   "cell_type": "code",
   "source": "dt.timestamp()",
   "id": "3a80354bf8530b08",
   "outputs": [
    {
     "data": {
      "text/plain": [
       "1716315698.157259"
      ]
     },
     "execution_count": 15,
     "metadata": {},
     "output_type": "execute_result"
    }
   ],
   "execution_count": 15
  },
  {
   "metadata": {
    "ExecuteTime": {
     "end_time": "2024-05-21T18:27:12.979769Z",
     "start_time": "2024-05-21T18:27:12.930133Z"
    }
   },
   "cell_type": "code",
   "source": "print(f\"{dt.hour}:{dt.minute}:{dt.second}\")",
   "id": "fad019247ecf7546",
   "outputs": [
    {
     "name": "stdout",
     "output_type": "stream",
     "text": [
      "15:21:38\n"
     ]
    }
   ],
   "execution_count": 16
  },
  {
   "metadata": {
    "ExecuteTime": {
     "end_time": "2024-05-21T18:28:31.634718Z",
     "start_time": "2024-05-21T18:28:31.621936Z"
    }
   },
   "cell_type": "code",
   "source": "print (f\"{dt.day}/{dt.month}/{dt.year}\")",
   "id": "7cd0b484581ae575",
   "outputs": [
    {
     "name": "stdout",
     "output_type": "stream",
     "text": [
      "21/5/2024\n"
     ]
    }
   ],
   "execution_count": 18
  },
  {
   "metadata": {
    "ExecuteTime": {
     "end_time": "2024-05-21T18:29:37.925742Z",
     "start_time": "2024-05-21T18:29:37.825256Z"
    }
   },
   "cell_type": "code",
   "source": "dt= datetime.datetime(2006,1,1)",
   "id": "b6ef4db295a9f506",
   "outputs": [],
   "execution_count": 19
  },
  {
   "metadata": {
    "ExecuteTime": {
     "end_time": "2024-05-21T18:29:52.725716Z",
     "start_time": "2024-05-21T18:29:52.686769Z"
    }
   },
   "cell_type": "code",
   "source": "dt.year",
   "id": "f174e738552aefd4",
   "outputs": [
    {
     "data": {
      "text/plain": [
       "2006"
      ]
     },
     "execution_count": 20,
     "metadata": {},
     "output_type": "execute_result"
    }
   ],
   "execution_count": 20
  },
  {
   "metadata": {
    "ExecuteTime": {
     "end_time": "2024-05-21T18:30:27.309780Z",
     "start_time": "2024-05-21T18:30:27.241860Z"
    }
   },
   "cell_type": "code",
   "source": "dt.replace(year=2017)",
   "id": "d0b69fe3c305c9ba",
   "outputs": [
    {
     "data": {
      "text/plain": [
       "datetime.datetime(2017, 1, 1, 0, 0)"
      ]
     },
     "execution_count": 21,
     "metadata": {},
     "output_type": "execute_result"
    }
   ],
   "execution_count": 21
  },
  {
   "metadata": {
    "ExecuteTime": {
     "end_time": "2024-05-23T13:53:38.452338Z",
     "start_time": "2024-05-23T13:53:38.446033Z"
    }
   },
   "cell_type": "code",
   "source": "dt= datetime.datetime.now()",
   "id": "b1c1d88706223373",
   "outputs": [],
   "execution_count": 4
  },
  {
   "metadata": {
    "ExecuteTime": {
     "end_time": "2024-05-21T18:31:45.047310Z",
     "start_time": "2024-05-21T18:31:45.014805Z"
    }
   },
   "cell_type": "code",
   "source": "dt.isoformat()",
   "id": "ca46500a209bdf48",
   "outputs": [
    {
     "data": {
      "text/plain": [
       "'2024-05-21T15:31:21.612937'"
      ]
     },
     "execution_count": 23,
     "metadata": {},
     "output_type": "execute_result"
    }
   ],
   "execution_count": 23
  },
  {
   "metadata": {
    "ExecuteTime": {
     "end_time": "2024-05-21T18:37:01.704551Z",
     "start_time": "2024-05-21T18:37:01.680711Z"
    }
   },
   "cell_type": "code",
   "source": "dt.strftime(\"%A %d %B %Y %I:%M\")",
   "id": "beb68da2003e69ca",
   "outputs": [
    {
     "data": {
      "text/plain": [
       "'martes 21 mayo 2024 03:31'"
      ]
     },
     "execution_count": 29,
     "metadata": {},
     "output_type": "execute_result"
    }
   ],
   "execution_count": 29
  },
  {
   "metadata": {
    "ExecuteTime": {
     "end_time": "2024-05-23T13:54:55.371847Z",
     "start_time": "2024-05-23T13:54:55.354240Z"
    }
   },
   "cell_type": "code",
   "source": "import locale",
   "id": "fa802c57b66a68",
   "outputs": [],
   "execution_count": 7
  },
  {
   "metadata": {
    "ExecuteTime": {
     "end_time": "2024-05-23T13:55:12.378389Z",
     "start_time": "2024-05-23T13:55:12.360677Z"
    }
   },
   "cell_type": "code",
   "source": "locale.setlocale(locale.LC_ALL,'es-LA')",
   "id": "540c5f488038d982",
   "outputs": [
    {
     "data": {
      "text/plain": [
       "'es-LA'"
      ]
     },
     "execution_count": 11,
     "metadata": {},
     "output_type": "execute_result"
    }
   ],
   "execution_count": 11
  },
  {
   "metadata": {
    "ExecuteTime": {
     "end_time": "2024-05-23T13:55:05.090910Z",
     "start_time": "2024-05-23T13:55:05.042192Z"
    }
   },
   "cell_type": "code",
   "source": "dt.strftime(\"%A %d %B del %Y - %H:%M\")",
   "id": "e37d755be98264d3",
   "outputs": [
    {
     "data": {
      "text/plain": [
       "'jueves 23 mayo del 2024 - 10:53'"
      ]
     },
     "execution_count": 9,
     "metadata": {},
     "output_type": "execute_result"
    }
   ],
   "execution_count": 9
  },
  {
   "metadata": {
    "ExecuteTime": {
     "end_time": "2024-05-23T13:56:16.674155Z",
     "start_time": "2024-05-23T13:56:16.635043Z"
    }
   },
   "cell_type": "code",
   "source": "t= datetime.timedelta(days=14, hours=4, seconds=1000)",
   "id": "2bdc9a1d7fd85685",
   "outputs": [],
   "execution_count": 12
  },
  {
   "metadata": {
    "ExecuteTime": {
     "end_time": "2024-05-23T13:56:42.058168Z",
     "start_time": "2024-05-23T13:56:42.046334Z"
    }
   },
   "cell_type": "code",
   "source": "dentro_de_dos_semanas= dt + t",
   "id": "43a1e7e4bd307874",
   "outputs": [],
   "execution_count": 13
  },
  {
   "metadata": {},
   "cell_type": "code",
   "outputs": [],
   "execution_count": null,
   "source": "dentro_de_dos_semanas",
   "id": "b43ec702c0cadb06"
  }
 ],
 "metadata": {
  "kernelspec": {
   "display_name": "Python 3",
   "language": "python",
   "name": "python3"
  },
  "language_info": {
   "codemirror_mode": {
    "name": "ipython",
    "version": 2
   },
   "file_extension": ".py",
   "mimetype": "text/x-python",
   "name": "python",
   "nbconvert_exporter": "python",
   "pygments_lexer": "ipython2",
   "version": "2.7.6"
  }
 },
 "nbformat": 4,
 "nbformat_minor": 5
}
