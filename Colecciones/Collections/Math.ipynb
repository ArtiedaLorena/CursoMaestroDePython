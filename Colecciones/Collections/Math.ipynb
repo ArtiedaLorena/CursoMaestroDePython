{
 "cells": [
  {
   "cell_type": "code",
   "id": "initial_id",
   "metadata": {
    "collapsed": true,
    "ExecuteTime": {
     "end_time": "2024-05-23T17:45:11.392853Z",
     "start_time": "2024-05-23T17:45:11.364193Z"
    }
   },
   "source": "import math\n",
   "outputs": [],
   "execution_count": 1
  },
  {
   "metadata": {
    "ExecuteTime": {
     "end_time": "2024-05-23T17:45:11.409324Z",
     "start_time": "2024-05-23T17:45:11.398812Z"
    }
   },
   "cell_type": "code",
   "source": "pi = 3.14159\n",
   "id": "c0095baf14f4e210",
   "outputs": [],
   "execution_count": 2
  },
  {
   "metadata": {
    "ExecuteTime": {
     "end_time": "2024-05-23T17:45:11.528127Z",
     "start_time": "2024-05-23T17:45:11.412297Z"
    }
   },
   "cell_type": "code",
   "source": "round(pi)",
   "id": "95bcf298580c3799",
   "outputs": [
    {
     "data": {
      "text/plain": [
       "3"
      ]
     },
     "execution_count": 3,
     "metadata": {},
     "output_type": "execute_result"
    }
   ],
   "execution_count": 3
  },
  {
   "metadata": {
    "ExecuteTime": {
     "end_time": "2024-05-23T17:45:11.610646Z",
     "start_time": "2024-05-23T17:45:11.548976Z"
    }
   },
   "cell_type": "code",
   "source": "round(3.5)",
   "id": "176a4261fba279ce",
   "outputs": [
    {
     "data": {
      "text/plain": [
       "4"
      ]
     },
     "execution_count": 4,
     "metadata": {},
     "output_type": "execute_result"
    }
   ],
   "execution_count": 4
  },
  {
   "metadata": {
    "ExecuteTime": {
     "end_time": "2024-05-23T17:45:35.828829Z",
     "start_time": "2024-05-23T17:45:35.789018Z"
    }
   },
   "cell_type": "code",
   "source": "math.ceil(pi)",
   "id": "5a5d8a678570ca87",
   "outputs": [
    {
     "data": {
      "text/plain": [
       "4"
      ]
     },
     "execution_count": 5,
     "metadata": {},
     "output_type": "execute_result"
    }
   ],
   "execution_count": 5
  },
  {
   "metadata": {
    "ExecuteTime": {
     "end_time": "2024-05-23T17:45:48.493323Z",
     "start_time": "2024-05-23T17:45:48.469056Z"
    }
   },
   "cell_type": "code",
   "source": "math.floor(pi)",
   "id": "b5f1eaaa6792fbda",
   "outputs": [
    {
     "data": {
      "text/plain": [
       "3"
      ]
     },
     "execution_count": 6,
     "metadata": {},
     "output_type": "execute_result"
    }
   ],
   "execution_count": 6
  },
  {
   "metadata": {
    "ExecuteTime": {
     "end_time": "2024-05-23T17:46:43.371305Z",
     "start_time": "2024-05-23T17:46:43.348800Z"
    }
   },
   "cell_type": "code",
   "source": "abs(-10)",
   "id": "18a676a0730583a4",
   "outputs": [
    {
     "data": {
      "text/plain": [
       "10"
      ]
     },
     "execution_count": 8,
     "metadata": {},
     "output_type": "execute_result"
    }
   ],
   "execution_count": 8
  },
  {
   "metadata": {
    "ExecuteTime": {
     "end_time": "2024-05-23T17:47:12.545875Z",
     "start_time": "2024-05-23T17:47:12.527726Z"
    }
   },
   "cell_type": "code",
   "source": [
    "numeros=[1,2,3,4]\n",
    "sum(numeros)"
   ],
   "id": "47c56126626eeabd",
   "outputs": [
    {
     "data": {
      "text/plain": [
       "10"
      ]
     },
     "execution_count": 9,
     "metadata": {},
     "output_type": "execute_result"
    }
   ],
   "execution_count": 9
  },
  {
   "metadata": {
    "ExecuteTime": {
     "end_time": "2024-05-23T17:47:46.066658Z",
     "start_time": "2024-05-23T17:47:46.051617Z"
    }
   },
   "cell_type": "code",
   "source": "math.fsum(numeros)",
   "id": "35ac1add78b1ba80",
   "outputs": [
    {
     "data": {
      "text/plain": [
       "10.0"
      ]
     },
     "execution_count": 10,
     "metadata": {},
     "output_type": "execute_result"
    }
   ],
   "execution_count": 10
  },
  {
   "metadata": {
    "ExecuteTime": {
     "end_time": "2024-05-23T17:49:20.036053Z",
     "start_time": "2024-05-23T17:49:20.011497Z"
    }
   },
   "cell_type": "code",
   "source": [
    "n=[3,4.67,5678,2.3]\n",
    "suma=math.fsum(n)"
   ],
   "id": "c4077c7525a37389",
   "outputs": [],
   "execution_count": 12
  },
  {
   "metadata": {
    "ExecuteTime": {
     "end_time": "2024-05-23T17:49:31.675428Z",
     "start_time": "2024-05-23T17:49:31.654328Z"
    }
   },
   "cell_type": "code",
   "source": [
    "#Trucante elimina a parte decimal\n",
    "math.trunc(suma)"
   ],
   "id": "6c91609409748aa1",
   "outputs": [
    {
     "data": {
      "text/plain": [
       "5687"
      ]
     },
     "execution_count": 13,
     "metadata": {},
     "output_type": "execute_result"
    }
   ],
   "execution_count": 13
  },
  {
   "metadata": {
    "ExecuteTime": {
     "end_time": "2024-05-23T17:49:52.951827Z",
     "start_time": "2024-05-23T17:49:52.921844Z"
    }
   },
   "cell_type": "code",
   "source": "math.pi",
   "id": "8cafec3f7366f12",
   "outputs": [
    {
     "data": {
      "text/plain": [
       "3.141592653589793"
      ]
     },
     "execution_count": 14,
     "metadata": {},
     "output_type": "execute_result"
    }
   ],
   "execution_count": 14
  },
  {
   "metadata": {},
   "cell_type": "code",
   "outputs": [],
   "execution_count": null,
   "source": "",
   "id": "c9618fe6ddd34048"
  }
 ],
 "metadata": {
  "kernelspec": {
   "display_name": "Python 3",
   "language": "python",
   "name": "python3"
  },
  "language_info": {
   "codemirror_mode": {
    "name": "ipython",
    "version": 2
   },
   "file_extension": ".py",
   "mimetype": "text/x-python",
   "name": "python",
   "nbconvert_exporter": "python",
   "pygments_lexer": "ipython2",
   "version": "2.7.6"
  }
 },
 "nbformat": 4,
 "nbformat_minor": 5
}
