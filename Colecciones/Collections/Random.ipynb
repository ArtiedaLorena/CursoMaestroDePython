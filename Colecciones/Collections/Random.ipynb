{
 "cells": [
  {
   "cell_type": "code",
   "id": "initial_id",
   "metadata": {
    "collapsed": true,
    "ExecuteTime": {
     "end_time": "2024-05-23T17:51:29.653278Z",
     "start_time": "2024-05-23T17:51:29.640279Z"
    }
   },
   "source": "import random",
   "outputs": [],
   "execution_count": 1
  },
  {
   "metadata": {
    "ExecuteTime": {
     "end_time": "2024-05-23T17:51:30.737042Z",
     "start_time": "2024-05-23T17:51:30.698237Z"
    }
   },
   "cell_type": "code",
   "source": "random.random() #Devuelve un valor entre 0 y 1",
   "id": "85111e1bafa95807",
   "outputs": [
    {
     "data": {
      "text/plain": [
       "0.580606051642554"
      ]
     },
     "execution_count": 2,
     "metadata": {},
     "output_type": "execute_result"
    }
   ],
   "execution_count": 2
  },
  {
   "metadata": {
    "ExecuteTime": {
     "end_time": "2024-05-23T17:52:58.797725Z",
     "start_time": "2024-05-23T17:52:58.780826Z"
    }
   },
   "cell_type": "code",
   "source": "random.uniform(1,10) #Devuelve un numero entre 1 y 10",
   "id": "6d9cd3e6475f4e04",
   "outputs": [
    {
     "data": {
      "text/plain": [
       "2.1873743371836074"
      ]
     },
     "execution_count": 4,
     "metadata": {},
     "output_type": "execute_result"
    }
   ],
   "execution_count": 4
  },
  {
   "metadata": {
    "ExecuteTime": {
     "end_time": "2024-05-23T17:54:46.326330Z",
     "start_time": "2024-05-23T17:54:46.294760Z"
    }
   },
   "cell_type": "code",
   "source": "round(random.uniform(1,20))",
   "id": "dd1a0ed54a26f2ff",
   "outputs": [
    {
     "data": {
      "text/plain": [
       "6"
      ]
     },
     "execution_count": 8,
     "metadata": {},
     "output_type": "execute_result"
    }
   ],
   "execution_count": 8
  },
  {
   "metadata": {
    "ExecuteTime": {
     "end_time": "2024-05-23T17:54:49.669383Z",
     "start_time": "2024-05-23T17:54:49.643556Z"
    }
   },
   "cell_type": "code",
   "source": "random.randrange(1,30)",
   "id": "3f2ff24304e2b005",
   "outputs": [
    {
     "data": {
      "text/plain": [
       "8"
      ]
     },
     "execution_count": 9,
     "metadata": {},
     "output_type": "execute_result"
    }
   ],
   "execution_count": 9
  },
  {
   "metadata": {
    "ExecuteTime": {
     "end_time": "2024-05-23T17:55:37.760261Z",
     "start_time": "2024-05-23T17:55:37.271945Z"
    }
   },
   "cell_type": "code",
   "source": "random.randrange(0,101)",
   "id": "eaf4d71217030a0d",
   "outputs": [
    {
     "data": {
      "text/plain": [
       "29"
      ]
     },
     "execution_count": 10,
     "metadata": {},
     "output_type": "execute_result"
    }
   ],
   "execution_count": 10
  },
  {
   "metadata": {
    "ExecuteTime": {
     "end_time": "2024-05-23T17:56:16.810878Z",
     "start_time": "2024-05-23T17:56:16.496684Z"
    }
   },
   "cell_type": "code",
   "source": "random.randrange(0,101,2) #Devuelve multiplos de 2",
   "id": "e88ecbd84aae39a9",
   "outputs": [
    {
     "data": {
      "text/plain": [
       "54"
      ]
     },
     "execution_count": 11,
     "metadata": {},
     "output_type": "execute_result"
    }
   ],
   "execution_count": 11
  },
  {
   "metadata": {
    "ExecuteTime": {
     "end_time": "2024-05-23T17:56:48.696617Z",
     "start_time": "2024-05-23T17:56:48.672181Z"
    }
   },
   "cell_type": "code",
   "source": [
    "c= \"Hola mundo\"\n",
    "random.choice(c)#Elige un valor aleatorio de la string"
   ],
   "id": "24cc9b7829346a66",
   "outputs": [
    {
     "data": {
      "text/plain": [
       "'m'"
      ]
     },
     "execution_count": 12,
     "metadata": {},
     "output_type": "execute_result"
    }
   ],
   "execution_count": 12
  },
  {
   "metadata": {
    "ExecuteTime": {
     "end_time": "2024-05-23T17:58:49.944253Z",
     "start_time": "2024-05-23T17:58:49.925427Z"
    }
   },
   "cell_type": "code",
   "source": [
    "l= [1,2,3,4,5,6]\n",
    "random.choice(l) #Elige un valor aleatorio de la lista\n",
    "random.shuffle(l)#Desordena la lista"
   ],
   "id": "ec6b5200e8f27c23",
   "outputs": [],
   "execution_count": 14
  },
  {
   "metadata": {
    "ExecuteTime": {
     "end_time": "2024-05-23T17:58:57.556466Z",
     "start_time": "2024-05-23T17:58:57.525600Z"
    }
   },
   "cell_type": "code",
   "source": "l",
   "id": "692024b27261c0c4",
   "outputs": [
    {
     "data": {
      "text/plain": [
       "[5, 3, 6, 2, 4, 1]"
      ]
     },
     "execution_count": 15,
     "metadata": {},
     "output_type": "execute_result"
    }
   ],
   "execution_count": 15
  },
  {
   "metadata": {
    "ExecuteTime": {
     "end_time": "2024-05-23T17:59:24.228418Z",
     "start_time": "2024-05-23T17:59:23.555928Z"
    }
   },
   "cell_type": "code",
   "source": "random.sample(l,2) #Devuelve dos numeros aleatorios de la lista pasada",
   "id": "6dab122b4858588c",
   "outputs": [
    {
     "data": {
      "text/plain": [
       "[4, 5]"
      ]
     },
     "execution_count": 16,
     "metadata": {},
     "output_type": "execute_result"
    }
   ],
   "execution_count": 16
  },
  {
   "metadata": {},
   "cell_type": "code",
   "outputs": [],
   "execution_count": null,
   "source": "",
   "id": "180d341353318023"
  }
 ],
 "metadata": {
  "kernelspec": {
   "display_name": "Python 3",
   "language": "python",
   "name": "python3"
  },
  "language_info": {
   "codemirror_mode": {
    "name": "ipython",
    "version": 2
   },
   "file_extension": ".py",
   "mimetype": "text/x-python",
   "name": "python",
   "nbconvert_exporter": "python",
   "pygments_lexer": "ipython2",
   "version": "2.7.6"
  }
 },
 "nbformat": 4,
 "nbformat_minor": 5
}
